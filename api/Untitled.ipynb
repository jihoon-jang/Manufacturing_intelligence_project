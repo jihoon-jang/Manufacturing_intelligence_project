{
 "cells": [
  {
   "cell_type": "code",
   "execution_count": 16,
   "metadata": {},
   "outputs": [],
   "source": [
    "import json \n",
    "import pandas as pd\n",
    "import requests\n",
    "import sys"
   ]
  },
  {
   "cell_type": "code",
   "execution_count": 17,
   "metadata": {},
   "outputs": [],
   "source": [
    "query1='''{\n",
    "  allChreports {\n",
    "    rNo\n",
    "    reportTitle\n",
    "    rDate\n",
    "  }\n",
    "}\n",
    "'''"
   ]
  },
  {
   "cell_type": "code",
   "execution_count": 25,
   "metadata": {},
   "outputs": [],
   "source": [
    "url='http://127.0.0.1:8000/graphql'"
   ]
  },
  {
   "cell_type": "code",
   "execution_count": 26,
   "metadata": {
    "scrolled": true
   },
   "outputs": [],
   "source": [
    "r=requests.get(url, json={'query':query1})"
   ]
  },
  {
   "cell_type": "code",
   "execution_count": 27,
   "metadata": {},
   "outputs": [
    {
     "name": "stdout",
     "output_type": "stream",
     "text": [
      "{'errors': [{'message': 'Must provide query string.'}]}\n"
     ]
    }
   ],
   "source": [
    "data=r.json()\n",
    "print(data)"
   ]
  },
  {
   "cell_type": "code",
   "execution_count": 24,
   "metadata": {},
   "outputs": [
    {
     "name": "stdout",
     "output_type": "stream",
     "text": [
      "[{'rNo': '1', 'reportTitle': '매출예측 - Report 2020-06-10sdsadasd', 'rDate': '2020-06-10T17:46:34+00:00'}, {'rNo': '2', 'reportTitle': '주식 분석 - 추세 캔들', 'rDate': '2020-06-10T20:39:31+00:00'}, {'rNo': '3', 'reportTitle': '주식 분석 - 단기 추세 캔들', 'rDate': '2020-06-10T21:01:22+00:00'}, {'rNo': '4', 'reportTitle': '매출예측 - Report 2020-06-10fqqweqweqqqwqw', 'rDate': '2020-06-10T23:06:26+00:00'}, {'rNo': '5', 'reportTitle': '매출예측 - Report 2020-06-11 14:26:24.499695', 'rDate': '2020-06-11T14:26:24+00:00'}, {'rNo': '6', 'reportTitle': '매출예측 - Report 2020-06-11 14:26:54.402511', 'rDate': '2020-06-11T14:26:54+00:00'}, {'rNo': '7', 'reportTitle': '매출예측 - Report 2020-06...dsss', 'rDate': '2020-06-11T14:28:25+00:00'}, {'rNo': '8', 'reportTitle': '매출예측 - Report 2020-06-11 15:53:31.226047', 'rDate': '2020-06-11T15:53:31+00:00'}, {'rNo': '9', 'reportTitle': '자전거 수요예측', 'rDate': '2020-06-12T22:03:43+00:00'}, {'rNo': '10', 'reportTitle': '맥주 판매량 예측', 'rDate': '2020-06-13T21:39:52+00:00'}, {'rNo': '11', 'reportTitle': '공부시간당 합격률', 'rDate': '2020-06-13T22:32:29+00:00'}, {'rNo': '12', 'reportTitle': '사업매출 추이 분석 20년6월', 'rDate': '2020-06-17T14:24:10+00:00'}, {'rNo': '13', 'reportTitle': 'MODAPTS - Report', 'rDate': '2020-06-18T15:01:58+00:00'}, {'rNo': '14', 'reportTitle': 'LOB율 개선 분석', 'rDate': '2020-06-18T15:11:05+00:00'}, {'rNo': '15', 'reportTitle': '제조물류 분석 개요', 'rDate': '2020-06-18T15:41:09+00:00'}, {'rNo': '16', 'reportTitle': '판매예측 - 다중변수 예측 - Report 2020-06-20', 'rDate': '2020-06-20T20:02:13+00:00'}, {'rNo': '17', 'reportTitle': '붓꽃 분류 - sklearn 신경망 - Report', 'rDate': '2020-06-20T20:59:40+00:00'}, {'rNo': '18', 'reportTitle': '다항회귀 - 보스톤 범죄예측 - Report 2020-06-20', 'rDate': '2020-06-20T21:37:35+00:00'}, {'rNo': '19', 'reportTitle': '광고비 매출예측 - Report', 'rDate': '2020-06-26T23:23:43+00:00'}, {'rNo': '20', 'reportTitle': '광고비 매출예측 - Report 2020-06-27 07:17:39.095458', 'rDate': '2020-06-27T07:17:39+00:00'}]\n"
     ]
    }
   ],
   "source": [
    "df_data=data['data']['allChreports']\n",
    "print(df_data)"
   ]
  },
  {
   "cell_type": "code",
   "execution_count": 100,
   "metadata": {},
   "outputs": [
    {
     "name": "stdout",
     "output_type": "stream",
     "text": [
      "   rNo                                   reportTitle  \\\n",
      "0    1              매출예측 - Report 2020-06-10sdsadasd   \n",
      "1    2                                 주식 분석 - 추세 캔들   \n",
      "2    3                              주식 분석 - 단기 추세 캔들   \n",
      "3    4        매출예측 - Report 2020-06-10fqqweqweqqqwqw   \n",
      "4    5      매출예측 - Report 2020-06-11 14:26:24.499695   \n",
      "5    6      매출예측 - Report 2020-06-11 14:26:54.402511   \n",
      "6    7                  매출예측 - Report 2020-06...dsss   \n",
      "7    8      매출예측 - Report 2020-06-11 15:53:31.226047   \n",
      "8    9                                      자전거 수요예측   \n",
      "9   10                                     맥주 판매량 예측   \n",
      "10  11                                     공부시간당 합격률   \n",
      "11  12                              사업매출 추이 분석 20년6월   \n",
      "12  13                              MODAPTS - Report   \n",
      "13  14                                    LOB율 개선 분석   \n",
      "14  15                                    제조물류 분석 개요   \n",
      "15  16            판매예측 - 다중변수 예측 - Report 2020-06-20   \n",
      "16  17                  붓꽃 분류 - sklearn 신경망 - Report   \n",
      "17  18           다항회귀 - 보스톤 범죄예측 - Report 2020-06-20   \n",
      "18  19                             광고비 매출예측 - Report   \n",
      "19  20  광고비 매출예측 - Report 2020-06-27 07:17:39.095458   \n",
      "\n",
      "                        rDate  \n",
      "0   2020-06-10T17:46:34+00:00  \n",
      "1   2020-06-10T20:39:31+00:00  \n",
      "2   2020-06-10T21:01:22+00:00  \n",
      "3   2020-06-10T23:06:26+00:00  \n",
      "4   2020-06-11T14:26:24+00:00  \n",
      "5   2020-06-11T14:26:54+00:00  \n",
      "6   2020-06-11T14:28:25+00:00  \n",
      "7   2020-06-11T15:53:31+00:00  \n",
      "8   2020-06-12T22:03:43+00:00  \n",
      "9   2020-06-13T21:39:52+00:00  \n",
      "10  2020-06-13T22:32:29+00:00  \n",
      "11  2020-06-17T14:24:10+00:00  \n",
      "12  2020-06-18T15:01:58+00:00  \n",
      "13  2020-06-18T15:11:05+00:00  \n",
      "14  2020-06-18T15:41:09+00:00  \n",
      "15  2020-06-20T20:02:13+00:00  \n",
      "16  2020-06-20T20:59:40+00:00  \n",
      "17  2020-06-20T21:37:35+00:00  \n",
      "18  2020-06-26T23:23:43+00:00  \n",
      "19  2020-06-27T07:17:39+00:00  \n"
     ]
    }
   ],
   "source": [
    "df=pd.DataFrame(df_data)\n",
    "print(df)"
   ]
  },
  {
   "cell_type": "code",
   "execution_count": 101,
   "metadata": {},
   "outputs": [],
   "source": [
    "df=df[df.columns[::1]]"
   ]
  },
  {
   "cell_type": "code",
   "execution_count": 102,
   "metadata": {},
   "outputs": [
    {
     "name": "stdout",
     "output_type": "stream",
     "text": [
      "   rNo                                   reportTitle  \\\n",
      "0    1              매출예측 - Report 2020-06-10sdsadasd   \n",
      "1    2                                 주식 분석 - 추세 캔들   \n",
      "2    3                              주식 분석 - 단기 추세 캔들   \n",
      "3    4        매출예측 - Report 2020-06-10fqqweqweqqqwqw   \n",
      "4    5      매출예측 - Report 2020-06-11 14:26:24.499695   \n",
      "5    6      매출예측 - Report 2020-06-11 14:26:54.402511   \n",
      "6    7                  매출예측 - Report 2020-06...dsss   \n",
      "7    8      매출예측 - Report 2020-06-11 15:53:31.226047   \n",
      "8    9                                      자전거 수요예측   \n",
      "9   10                                     맥주 판매량 예측   \n",
      "10  11                                     공부시간당 합격률   \n",
      "11  12                              사업매출 추이 분석 20년6월   \n",
      "12  13                              MODAPTS - Report   \n",
      "13  14                                    LOB율 개선 분석   \n",
      "14  15                                    제조물류 분석 개요   \n",
      "15  16            판매예측 - 다중변수 예측 - Report 2020-06-20   \n",
      "16  17                  붓꽃 분류 - sklearn 신경망 - Report   \n",
      "17  18           다항회귀 - 보스톤 범죄예측 - Report 2020-06-20   \n",
      "18  19                             광고비 매출예측 - Report   \n",
      "19  20  광고비 매출예측 - Report 2020-06-27 07:17:39.095458   \n",
      "\n",
      "                        rDate  \n",
      "0   2020-06-10T17:46:34+00:00  \n",
      "1   2020-06-10T20:39:31+00:00  \n",
      "2   2020-06-10T21:01:22+00:00  \n",
      "3   2020-06-10T23:06:26+00:00  \n",
      "4   2020-06-11T14:26:24+00:00  \n",
      "5   2020-06-11T14:26:54+00:00  \n",
      "6   2020-06-11T14:28:25+00:00  \n",
      "7   2020-06-11T15:53:31+00:00  \n",
      "8   2020-06-12T22:03:43+00:00  \n",
      "9   2020-06-13T21:39:52+00:00  \n",
      "10  2020-06-13T22:32:29+00:00  \n",
      "11  2020-06-17T14:24:10+00:00  \n",
      "12  2020-06-18T15:01:58+00:00  \n",
      "13  2020-06-18T15:11:05+00:00  \n",
      "14  2020-06-18T15:41:09+00:00  \n",
      "15  2020-06-20T20:02:13+00:00  \n",
      "16  2020-06-20T20:59:40+00:00  \n",
      "17  2020-06-20T21:37:35+00:00  \n",
      "18  2020-06-26T23:23:43+00:00  \n",
      "19  2020-06-27T07:17:39+00:00  \n"
     ]
    }
   ],
   "source": [
    "print(df)"
   ]
  },
  {
   "cell_type": "code",
   "execution_count": 105,
   "metadata": {},
   "outputs": [],
   "source": [
    "rsAPI=[tuple(r) for r in df.to_numpy()]"
   ]
  },
  {
   "cell_type": "code",
   "execution_count": 106,
   "metadata": {},
   "outputs": [
    {
     "name": "stdout",
     "output_type": "stream",
     "text": [
      "[('1', '매출예측 - Report 2020-06-10sdsadasd', '2020-06-10T17:46:34+00:00'), ('2', '주식 분석 - 추세 캔들', '2020-06-10T20:39:31+00:00'), ('3', '주식 분석 - 단기 추세 캔들', '2020-06-10T21:01:22+00:00'), ('4', '매출예측 - Report 2020-06-10fqqweqweqqqwqw', '2020-06-10T23:06:26+00:00'), ('5', '매출예측 - Report 2020-06-11 14:26:24.499695', '2020-06-11T14:26:24+00:00'), ('6', '매출예측 - Report 2020-06-11 14:26:54.402511', '2020-06-11T14:26:54+00:00'), ('7', '매출예측 - Report 2020-06...dsss', '2020-06-11T14:28:25+00:00'), ('8', '매출예측 - Report 2020-06-11 15:53:31.226047', '2020-06-11T15:53:31+00:00'), ('9', '자전거 수요예측', '2020-06-12T22:03:43+00:00'), ('10', '맥주 판매량 예측', '2020-06-13T21:39:52+00:00'), ('11', '공부시간당 합격률', '2020-06-13T22:32:29+00:00'), ('12', '사업매출 추이 분석 20년6월', '2020-06-17T14:24:10+00:00'), ('13', 'MODAPTS - Report', '2020-06-18T15:01:58+00:00'), ('14', 'LOB율 개선 분석', '2020-06-18T15:11:05+00:00'), ('15', '제조물류 분석 개요', '2020-06-18T15:41:09+00:00'), ('16', '판매예측 - 다중변수 예측 - Report 2020-06-20', '2020-06-20T20:02:13+00:00'), ('17', '붓꽃 분류 - sklearn 신경망 - Report', '2020-06-20T20:59:40+00:00'), ('18', '다항회귀 - 보스톤 범죄예측 - Report 2020-06-20', '2020-06-20T21:37:35+00:00'), ('19', '광고비 매출예측 - Report', '2020-06-26T23:23:43+00:00'), ('20', '광고비 매출예측 - Report 2020-06-27 07:17:39.095458', '2020-06-27T07:17:39+00:00')]\n"
     ]
    }
   ],
   "source": [
    "print(rsAPI)"
   ]
  },
  {
   "cell_type": "code",
   "execution_count": null,
   "metadata": {},
   "outputs": [],
   "source": []
  },
  {
   "cell_type": "code",
   "execution_count": null,
   "metadata": {},
   "outputs": [],
   "source": []
  }
 ],
 "metadata": {
  "kernelspec": {
   "display_name": "Python 3",
   "language": "python",
   "name": "python3"
  },
  "language_info": {
   "codemirror_mode": {
    "name": "ipython",
    "version": 3
   },
   "file_extension": ".py",
   "mimetype": "text/x-python",
   "name": "python",
   "nbconvert_exporter": "python",
   "pygments_lexer": "ipython3",
   "version": "3.6.9"
  }
 },
 "nbformat": 4,
 "nbformat_minor": 4
}
